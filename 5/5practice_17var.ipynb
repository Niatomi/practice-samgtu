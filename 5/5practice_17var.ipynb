{
 "cells": [
  {
   "cell_type": "markdown",
   "source": [
    "# Условная вероятность: формула Байеса"
   ],
   "metadata": {
    "collapsed": false
   }
  },
  {
   "cell_type": "code",
   "execution_count": 32,
   "outputs": [],
   "source": [
    "# !pip install pandas"
   ],
   "metadata": {
    "collapsed": false,
    "pycharm": {
     "name": "#%%\n"
    }
   }
  },
  {
   "cell_type": "code",
   "execution_count": 33,
   "outputs": [],
   "source": [
    "import pandas as pd"
   ],
   "metadata": {
    "collapsed": false,
    "pycharm": {
     "name": "#%%\n"
    }
   }
  },
  {
   "cell_type": "code",
   "execution_count": 34,
   "outputs": [
    {
     "data": {
      "text/plain": "    Поле Ключевые игроки Ключевые игроки соперника Погода\n0   свое            есть                      есть  дождь\n1  чужое             нет                       нет   ясно\n2   свое            есть                       нет   ясно\n3   свое            есть                       нет  дождь\n4  чужое             нет                      есть  дождь\n5  чужое            есть                      есть   ясно\n6  чужое             нет                      есть   ясно\n7   свое             нет                       нет   ясно\n8   свое            есть                       нет  дождь\n9  чужое            есть                       нет   ясно",
      "text/html": "<div>\n<style scoped>\n    .dataframe tbody tr th:only-of-type {\n        vertical-align: middle;\n    }\n\n    .dataframe tbody tr th {\n        vertical-align: top;\n    }\n\n    .dataframe thead th {\n        text-align: right;\n    }\n</style>\n<table border=\"1\" class=\"dataframe\">\n  <thead>\n    <tr style=\"text-align: right;\">\n      <th></th>\n      <th>Поле</th>\n      <th>Ключевые игроки</th>\n      <th>Ключевые игроки соперника</th>\n      <th>Погода</th>\n    </tr>\n  </thead>\n  <tbody>\n    <tr>\n      <th>0</th>\n      <td>свое</td>\n      <td>есть</td>\n      <td>есть</td>\n      <td>дождь</td>\n    </tr>\n    <tr>\n      <th>1</th>\n      <td>чужое</td>\n      <td>нет</td>\n      <td>нет</td>\n      <td>ясно</td>\n    </tr>\n    <tr>\n      <th>2</th>\n      <td>свое</td>\n      <td>есть</td>\n      <td>нет</td>\n      <td>ясно</td>\n    </tr>\n    <tr>\n      <th>3</th>\n      <td>свое</td>\n      <td>есть</td>\n      <td>нет</td>\n      <td>дождь</td>\n    </tr>\n    <tr>\n      <th>4</th>\n      <td>чужое</td>\n      <td>нет</td>\n      <td>есть</td>\n      <td>дождь</td>\n    </tr>\n    <tr>\n      <th>5</th>\n      <td>чужое</td>\n      <td>есть</td>\n      <td>есть</td>\n      <td>ясно</td>\n    </tr>\n    <tr>\n      <th>6</th>\n      <td>чужое</td>\n      <td>нет</td>\n      <td>есть</td>\n      <td>ясно</td>\n    </tr>\n    <tr>\n      <th>7</th>\n      <td>свое</td>\n      <td>нет</td>\n      <td>нет</td>\n      <td>ясно</td>\n    </tr>\n    <tr>\n      <th>8</th>\n      <td>свое</td>\n      <td>есть</td>\n      <td>нет</td>\n      <td>дождь</td>\n    </tr>\n    <tr>\n      <th>9</th>\n      <td>чужое</td>\n      <td>есть</td>\n      <td>нет</td>\n      <td>ясно</td>\n    </tr>\n  </tbody>\n</table>\n</div>"
     },
     "execution_count": 34,
     "metadata": {},
     "output_type": "execute_result"
    }
   ],
   "source": [
    "url = 'https://raw.githubusercontent.com/Genia163/Datasets-for-lab/main/5_bayes/footballmatch.csv'\n",
    "data = pd.read_csv(url, sep=';')\n",
    "train_df = data.drop(labels='Победа', axis = 1)\n",
    "train_df"
   ],
   "metadata": {
    "collapsed": false,
    "pycharm": {
     "name": "#%%\n"
    }
   }
  },
  {
   "cell_type": "code",
   "execution_count": 35,
   "outputs": [],
   "source": [
    "def P_Y(array_yes, list_find, array):\n",
    "    P_yes = 1\n",
    "    array_yes = array_yes.drop(array_yes.columns[-1], axis = 1)\n",
    "    cols = array_yes.columns\n",
    "\n",
    "    for i in range(len(cols)):\n",
    "        P_yes = P_yes * (len(array_yes[array_yes[cols[i]] == list_find[i]])/len(array_yes))\n",
    "    P_yes = P_yes * (len(array_yes)/len(array))\n",
    "    return P_yes"
   ],
   "metadata": {
    "collapsed": false,
    "pycharm": {
     "name": "#%%\n"
    }
   }
  },
  {
   "cell_type": "code",
   "execution_count": 36,
   "outputs": [],
   "source": [
    "def P_train(array, list_found):\n",
    "    cols = array.columns\n",
    "    unique = pd.unique(array[cols[-1]])\n",
    "\n",
    "    array0 = array[array[cols[-1]] == unique[0]]\n",
    "    array1 = array[array[cols[-1]] == unique[1]]\n",
    "\n",
    "    prob0 = P_Y(array0, list_found, array)\n",
    "    prob1 = P_Y(array1, list_found, array)\n",
    "\n",
    "    text = 'Вероятность исхода - {pname} - равна: {value:.3f}'\n",
    "\n",
    "    if prob0 > prob1:\n",
    "        answer = text.format(pname = unique[0]) + str(prob0)\n",
    "    else:\n",
    "        answer = text.format(pname = unique[1]) + str(prob1)\n",
    "\n",
    "    print(answer)"
   ],
   "metadata": {
    "collapsed": false,
    "pycharm": {
     "name": "#%%\n"
    }
   }
  },
  {
   "cell_type": "code",
   "execution_count": 37,
   "outputs": [
    {
     "name": "stdout",
     "output_type": "stream",
     "text": [
      "Вероятность исхода - ясно - равна: 0.06666666666666667\n"
     ]
    }
   ],
   "source": [
    "Field = 'чужое'\n",
    "Main_players = 'нет'\n",
    "Main_enemy_players = 'есть'\n",
    "Weather = 'дождь'\n",
    "\n",
    "list_find = [Field, Main_players, Main_enemy_players, Weather]\n",
    "P_train(train_df, list_find)"
   ],
   "metadata": {
    "collapsed": false,
    "pycharm": {
     "name": "#%%\n"
    }
   }
  }
 ],
 "metadata": {
  "kernelspec": {
   "display_name": "Python 3",
   "language": "python",
   "name": "python3"
  },
  "language_info": {
   "codemirror_mode": {
    "name": "ipython",
    "version": 2
   },
   "file_extension": ".py",
   "mimetype": "text/x-python",
   "name": "python",
   "nbconvert_exporter": "python",
   "pygments_lexer": "ipython2",
   "version": "2.7.6"
  }
 },
 "nbformat": 4,
 "nbformat_minor": 0
}