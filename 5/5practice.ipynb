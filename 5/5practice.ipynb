{
 "cells": [
  {
   "cell_type": "markdown",
   "source": [
    "# Условная вероятность: формула Байеса"
   ],
   "metadata": {
    "collapsed": false
   }
  },
  {
   "cell_type": "code",
   "execution_count": 29,
   "outputs": [
    {
     "name": "stdout",
     "output_type": "stream",
     "text": [
      "Requirement already satisfied: requests in c:\\git\\ml-learn\\lib\\site-packages (2.28.1)\n",
      "Requirement already satisfied: charset-normalizer<3,>=2 in c:\\git\\ml-learn\\lib\\site-packages (from requests) (2.1.1)\n",
      "Requirement already satisfied: idna<4,>=2.5 in c:\\git\\ml-learn\\lib\\site-packages (from requests) (3.4)\n",
      "Requirement already satisfied: urllib3<1.27,>=1.21.1 in c:\\git\\ml-learn\\lib\\site-packages (from requests) (1.26.12)\n",
      "Requirement already satisfied: certifi>=2017.4.17 in c:\\git\\ml-learn\\lib\\site-packages (from requests) (2022.9.14)\n"
     ]
    }
   ],
   "source": [
    "# !pip install pandas\n",
    "!pip install requests"
   ],
   "metadata": {
    "collapsed": false,
    "pycharm": {
     "name": "#%%\n"
    }
   }
  },
  {
   "cell_type": "code",
   "execution_count": 30,
   "outputs": [],
   "source": [
    "import pandas as pd"
   ],
   "metadata": {
    "collapsed": false,
    "pycharm": {
     "name": "#%%\n"
    }
   }
  },
  {
   "cell_type": "code",
   "execution_count": 31,
   "metadata": {
    "collapsed": true
   },
   "outputs": [],
   "source": [
    "\"\"\"\n",
    "p_A - вероятность возникновения события\n",
    "p_B_given_A - вероятность возникновения В при выполнении А\n",
    "p_B_given_not_A - вероятность возникновения В при невполнении А\n",
    "\"\"\"\n",
    "def bayes(p_A, p_B_given_A, p_B_given_not_A):\n",
    "    p_not_A = 1 - p_A\n",
    "    p_b = (p_B_given_A * p_A) + (p_B_given_not_A * p_not_A)\n",
    "    return (p_B_given_A * p_A)/p_b"
   ]
  },
  {
   "cell_type": "code",
   "execution_count": 32,
   "outputs": [
    {
     "name": "stdout",
     "output_type": "stream",
     "text": [
      "P(болен) =  16.1\n"
     ]
    }
   ],
   "source": [
    "print('P(болен) = ', '{0:.1f}'.format(bayes(0.01, 0.95, 0.05) * 100))"
   ],
   "metadata": {
    "collapsed": false,
    "pycharm": {
     "name": "#%%\n"
    }
   }
  },
  {
   "cell_type": "code",
   "execution_count": 33,
   "outputs": [],
   "source": [
    "url = 'https://raw.githubusercontent.com/Genia163/Datasets-for-lab/main/5_bayes/tennis.csv'\n",
    "data = pd.read_csv(url, sep=';')\n",
    "# data.drop(labels='Day', axis = 1)\n",
    "train_df = data"
   ],
   "metadata": {
    "collapsed": false,
    "pycharm": {
     "name": "#%%\n"
    }
   }
  },
  {
   "cell_type": "code",
   "execution_count": 34,
   "outputs": [],
   "source": [
    "def P_Y(array_yes, list_find, array):\n",
    "    P_yes = 1\n",
    "    array_yes = array_yes.drop(array_yes.columns[-1], axis = 1)\n",
    "    cols = array_yes.columns\n",
    "\n",
    "    for i in range(len(cols)):\n",
    "        P_yes = P_yes * (len(array_yes[array_yes[cols[i]] == list_find[i]])/len(array_yes))\n",
    "    P_yes = P_yes * (len(array_yes)/len(array))\n",
    "    return P_yes"
   ],
   "metadata": {
    "collapsed": false,
    "pycharm": {
     "name": "#%%\n"
    }
   }
  },
  {
   "cell_type": "code",
   "execution_count": 35,
   "outputs": [],
   "source": [
    "def P_train(array, list_found):\n",
    "    cols = array.columns\n",
    "    unique = pd.unique(array[cols[-1]])\n",
    "\n",
    "    array0 = array[array[cols[-1]] == unique[0]]\n",
    "    array1 = array[array[cols[-1]] == unique[1]]\n",
    "\n",
    "    prob0 = P_Y(array0, list_found, array)\n",
    "    prob1 = P_Y(array1, list_found, array)\n",
    "\n",
    "    text = ' с вероятностью '\n",
    "\n",
    "    if prob0 > prob1:\n",
    "        answer = unique[0] + text + str(prob0)\n",
    "    else:\n",
    "        answer = unique[1] + text + str(prob1)\n",
    "\n",
    "    print(answer)"
   ],
   "metadata": {
    "collapsed": false,
    "pycharm": {
     "name": "#%%\n"
    }
   }
  },
  {
   "cell_type": "code",
   "execution_count": 36,
   "outputs": [
    {
     "name": "stdout",
     "output_type": "stream",
     "text": [
      "No с вероятностью 0.02057142857142857\n"
     ]
    }
   ],
   "source": [
    "Outlook = 'Sunny'\n",
    "Temperature = 'Cool'\n",
    "Humidity = 'High'\n",
    "Wind = 'Strong'\n",
    "\n",
    "list_find = [Outlook, Temperature, Humidity, Wind]\n",
    "P_train(train_df, list_find)"
   ],
   "metadata": {
    "collapsed": false,
    "pycharm": {
     "name": "#%%\n"
    }
   }
  }
 ],
 "metadata": {
  "kernelspec": {
   "display_name": "Python 3",
   "language": "python",
   "name": "python3"
  },
  "language_info": {
   "codemirror_mode": {
    "name": "ipython",
    "version": 2
   },
   "file_extension": ".py",
   "mimetype": "text/x-python",
   "name": "python",
   "nbconvert_exporter": "python",
   "pygments_lexer": "ipython2",
   "version": "2.7.6"
  }
 },
 "nbformat": 4,
 "nbformat_minor": 0
}