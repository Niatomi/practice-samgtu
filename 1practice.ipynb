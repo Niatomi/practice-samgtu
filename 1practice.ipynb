{
 "cells": [
  {
   "cell_type": "code",
   "execution_count": 618,
   "metadata": {
    "collapsed": true
   },
   "outputs": [],
   "source": [
    "# !pip install -U pip\n",
    "# !pip install numpy\n",
    "# !pip install pandas\n",
    "# !pip install matplotlib\n",
    "# !pip install seaborn\n",
    "# !pip install sklearn\n",
    "# !pip install mpl_toolkits\n",
    "# !pip install plotly"
   ]
  },
  {
   "cell_type": "markdown",
   "source": [
    "# Naive Bayes"
   ],
   "metadata": {
    "collapsed": false
   }
  },
  {
   "cell_type": "code",
   "execution_count": 619,
   "outputs": [],
   "source": [
    "# Гораздо лучше работает с памятью\n",
    "import numpy as np\n",
    "\n",
    "# В основном для табличных данных\n",
    "import pandas as pd\n",
    "\n",
    "import matplotlib\n",
    "matplotlib.rcParams['font.size'] = 8\n",
    "\n",
    "import matplotlib.pyplot as plt\n",
    "import seaborn as sns\n",
    "\n",
    "# В прод не надо, лучше через тензор\n",
    "from sklearn import datasets"
   ],
   "metadata": {
    "collapsed": false,
    "pycharm": {
     "name": "#%%\n"
    }
   }
  },
  {
   "cell_type": "code",
   "execution_count": 620,
   "outputs": [
    {
     "name": "stdout",
     "output_type": "stream",
     "text": [
      ".. _iris_dataset:\n",
      "\n",
      "Iris plants dataset\n",
      "--------------------\n",
      "\n",
      "**Data Set Characteristics:**\n",
      "\n",
      "    :Number of Instances: 150 (50 in each of three classes)\n",
      "    :Number of Attributes: 4 numeric, predictive attributes and the class\n",
      "    :Attribute Information:\n",
      "        - sepal length in cm\n",
      "        - sepal width in cm\n",
      "        - petal length in cm\n",
      "        - petal width in cm\n",
      "        - class:\n",
      "                - Iris-Setosa\n",
      "                - Iris-Versicolour\n",
      "                - Iris-Virginica\n",
      "                \n",
      "    :Summary Statistics:\n",
      "\n",
      "    ============== ==== ==== ======= ===== ====================\n",
      "                    Min  Max   Mean    SD   Class Correlation\n",
      "    ============== ==== ==== ======= ===== ====================\n",
      "    sepal length:   4.3  7.9   5.84   0.83    0.7826\n",
      "    sepal width:    2.0  4.4   3.05   0.43   -0.4194\n",
      "    petal length:   1.0  6.9   3.76   1.76    0.9490  (high!)\n",
      "    petal width:    0.1  2.5   1.20   0.76    0.9565  (high!)\n",
      "    ============== ==== ==== ======= ===== ====================\n",
      "\n",
      "    :Missing Attribute Values: None\n",
      "    :Class Distribution: 33.3% for each of 3 classes.\n",
      "    :Creator: R.A. Fisher\n",
      "    :Donor: Michael Marshall (MARSHALL%PLU@io.arc.nasa.gov)\n",
      "    :Date: July, 1988\n",
      "\n",
      "The famous Iris database, first used by Sir R.A. Fisher. The dataset is taken\n",
      "from Fisher's paper. Note that it's the same as in R, but not as in the UCI\n",
      "Machine Learning Repository, which has two wrong data points.\n",
      "\n",
      "This is perhaps the best known database to be found in the\n",
      "pattern recognition literature.  Fisher's paper is a classic in the field and\n",
      "is referenced frequently to this day.  (See Duda & Hart, for example.)  The\n",
      "data set contains 3 classes of 50 instances each, where each class refers to a\n",
      "type of iris plant.  One class is linearly separable from the other 2; the\n",
      "latter are NOT linearly separable from each other.\n",
      "\n",
      ".. topic:: References\n",
      "\n",
      "   - Fisher, R.A. \"The use of multiple measurements in taxonomic problems\"\n",
      "     Annual Eugenics, 7, Part II, 179-188 (1936); also in \"Contributions to\n",
      "     Mathematical Statistics\" (John Wiley, NY, 1950).\n",
      "   - Duda, R.O., & Hart, P.E. (1973) Pattern Classification and Scene Analysis.\n",
      "     (Q327.D83) John Wiley & Sons.  ISBN 0-471-22361-1.  See page 218.\n",
      "   - Dasarathy, B.V. (1980) \"Nosing Around the Neighborhood: A New System\n",
      "     Structure and Classification Rule for Recognition in Partially Exposed\n",
      "     Environments\".  IEEE Transactions on Pattern Analysis and Machine\n",
      "     Intelligence, Vol. PAMI-2, No. 1, 67-71.\n",
      "   - Gates, G.W. (1972) \"The Reduced Nearest Neighbor Rule\".  IEEE Transactions\n",
      "     on Information Theory, May 1972, 431-433.\n",
      "   - See also: 1988 MLC Proceedings, 54-64.  Cheeseman et al\"s AUTOCLASS II\n",
      "     conceptual clustering system finds 3 classes in the data.\n",
      "   - Many, many more ...\n"
     ]
    }
   ],
   "source": [
    "dataset = datasets.load_iris()\n",
    "print(dataset.DESCR)"
   ],
   "metadata": {
    "collapsed": false,
    "pycharm": {
     "name": "#%%\n"
    }
   }
  },
  {
   "cell_type": "code",
   "execution_count": 621,
   "outputs": [
    {
     "data": {
      "text/plain": "    sepal length (cm) sepal width (cm) petal length (cm) petal width (cm)  \\\n0                 5.1              3.5               1.4              0.2   \n1                 4.9              3.0               1.4              0.2   \n2                 4.7              3.2               1.3              0.2   \n3                 4.6              3.1               1.5              0.2   \n4                 5.0              3.6               1.4              0.2   \n..                ...              ...               ...              ...   \n145               6.7              3.0               5.2              2.3   \n146               6.3              2.5               5.0              1.9   \n147               6.5              3.0               5.2              2.0   \n148               6.2              3.4               5.4              2.3   \n149               5.9              3.0               5.1              1.8   \n\n    target label target name  \n0              0      setosa  \n1              0      setosa  \n2              0      setosa  \n3              0      setosa  \n4              0      setosa  \n..           ...         ...  \n145            2   virginica  \n146            2   virginica  \n147            2   virginica  \n148            2   virginica  \n149            2   virginica  \n\n[150 rows x 6 columns]",
      "text/html": "<div>\n<style scoped>\n    .dataframe tbody tr th:only-of-type {\n        vertical-align: middle;\n    }\n\n    .dataframe tbody tr th {\n        vertical-align: top;\n    }\n\n    .dataframe thead th {\n        text-align: right;\n    }\n</style>\n<table border=\"1\" class=\"dataframe\">\n  <thead>\n    <tr style=\"text-align: right;\">\n      <th></th>\n      <th>sepal length (cm)</th>\n      <th>sepal width (cm)</th>\n      <th>petal length (cm)</th>\n      <th>petal width (cm)</th>\n      <th>target label</th>\n      <th>target name</th>\n    </tr>\n  </thead>\n  <tbody>\n    <tr>\n      <th>0</th>\n      <td>5.1</td>\n      <td>3.5</td>\n      <td>1.4</td>\n      <td>0.2</td>\n      <td>0</td>\n      <td>setosa</td>\n    </tr>\n    <tr>\n      <th>1</th>\n      <td>4.9</td>\n      <td>3.0</td>\n      <td>1.4</td>\n      <td>0.2</td>\n      <td>0</td>\n      <td>setosa</td>\n    </tr>\n    <tr>\n      <th>2</th>\n      <td>4.7</td>\n      <td>3.2</td>\n      <td>1.3</td>\n      <td>0.2</td>\n      <td>0</td>\n      <td>setosa</td>\n    </tr>\n    <tr>\n      <th>3</th>\n      <td>4.6</td>\n      <td>3.1</td>\n      <td>1.5</td>\n      <td>0.2</td>\n      <td>0</td>\n      <td>setosa</td>\n    </tr>\n    <tr>\n      <th>4</th>\n      <td>5.0</td>\n      <td>3.6</td>\n      <td>1.4</td>\n      <td>0.2</td>\n      <td>0</td>\n      <td>setosa</td>\n    </tr>\n    <tr>\n      <th>...</th>\n      <td>...</td>\n      <td>...</td>\n      <td>...</td>\n      <td>...</td>\n      <td>...</td>\n      <td>...</td>\n    </tr>\n    <tr>\n      <th>145</th>\n      <td>6.7</td>\n      <td>3.0</td>\n      <td>5.2</td>\n      <td>2.3</td>\n      <td>2</td>\n      <td>virginica</td>\n    </tr>\n    <tr>\n      <th>146</th>\n      <td>6.3</td>\n      <td>2.5</td>\n      <td>5.0</td>\n      <td>1.9</td>\n      <td>2</td>\n      <td>virginica</td>\n    </tr>\n    <tr>\n      <th>147</th>\n      <td>6.5</td>\n      <td>3.0</td>\n      <td>5.2</td>\n      <td>2.0</td>\n      <td>2</td>\n      <td>virginica</td>\n    </tr>\n    <tr>\n      <th>148</th>\n      <td>6.2</td>\n      <td>3.4</td>\n      <td>5.4</td>\n      <td>2.3</td>\n      <td>2</td>\n      <td>virginica</td>\n    </tr>\n    <tr>\n      <th>149</th>\n      <td>5.9</td>\n      <td>3.0</td>\n      <td>5.1</td>\n      <td>1.8</td>\n      <td>2</td>\n      <td>virginica</td>\n    </tr>\n  </tbody>\n</table>\n<p>150 rows × 6 columns</p>\n</div>"
     },
     "execution_count": 621,
     "metadata": {},
     "output_type": "execute_result"
    }
   ],
   "source": [
    "ext_target = dataset.target[:, None]\n",
    "# ext_target = np.expand_dims(dataset.target, axis=-1)\n",
    "df = pd.DataFrame(\n",
    "    np.concatenate((dataset.data, ext_target, dataset.target_names[ext_target]), axis=1),\n",
    "    columns=dataset.feature_names + ['target label', 'target name'],\n",
    ")\n",
    "df"
   ],
   "metadata": {
    "collapsed": false,
    "pycharm": {
     "name": "#%%\n"
    }
   }
  },
  {
   "cell_type": "code",
   "execution_count": 622,
   "outputs": [
    {
     "data": {
      "text/plain": "((150, 4), (150,))"
     },
     "execution_count": 622,
     "metadata": {},
     "output_type": "execute_result"
    }
   ],
   "source": [
    "features = dataset.data\n",
    "target = dataset.target\n",
    "features.shape, target.shape"
   ],
   "metadata": {
    "collapsed": false,
    "pycharm": {
     "name": "#%%\n"
    }
   }
  },
  {
   "cell_type": "markdown",
   "source": [
    "# `(#number_of_items, #number_of_features)`"
   ],
   "metadata": {
    "collapsed": false
   }
  },
  {
   "cell_type": "code",
   "execution_count": 623,
   "outputs": [
    {
     "data": {
      "application/vnd.plotly.v1+json": {
       "data": [
        {
         "hovertemplate": "target name=setosa<br>sepal length (cm)=%{x}<br>sepal width (cm)=%{y}<br>petal width (cm)=%{z}<extra></extra>",
         "legendgroup": "setosa",
         "marker": {
          "color": "#636efa",
          "symbol": "circle"
         },
         "mode": "markers",
         "name": "setosa",
         "scene": "scene",
         "showlegend": true,
         "x": [
          "5.1",
          "4.9",
          "4.7",
          "4.6",
          "5.0",
          "5.4",
          "4.6",
          "5.0",
          "4.4",
          "4.9",
          "5.4",
          "4.8",
          "4.8",
          "4.3",
          "5.8",
          "5.7",
          "5.4",
          "5.1",
          "5.7",
          "5.1",
          "5.4",
          "5.1",
          "4.6",
          "5.1",
          "4.8",
          "5.0",
          "5.0",
          "5.2",
          "5.2",
          "4.7",
          "4.8",
          "5.4",
          "5.2",
          "5.5",
          "4.9",
          "5.0",
          "5.5",
          "4.9",
          "4.4",
          "5.1",
          "5.0",
          "4.5",
          "4.4",
          "5.0",
          "5.1",
          "4.8",
          "5.1",
          "4.6",
          "5.3",
          "5.0"
         ],
         "y": [
          "3.5",
          "3.0",
          "3.2",
          "3.1",
          "3.6",
          "3.9",
          "3.4",
          "3.4",
          "2.9",
          "3.1",
          "3.7",
          "3.4",
          "3.0",
          "3.0",
          "4.0",
          "4.4",
          "3.9",
          "3.5",
          "3.8",
          "3.8",
          "3.4",
          "3.7",
          "3.6",
          "3.3",
          "3.4",
          "3.0",
          "3.4",
          "3.5",
          "3.4",
          "3.2",
          "3.1",
          "3.4",
          "4.1",
          "4.2",
          "3.1",
          "3.2",
          "3.5",
          "3.6",
          "3.0",
          "3.4",
          "3.5",
          "2.3",
          "3.2",
          "3.5",
          "3.8",
          "3.0",
          "3.8",
          "3.2",
          "3.7",
          "3.3"
         ],
         "z": [
          "0.2",
          "0.2",
          "0.2",
          "0.2",
          "0.2",
          "0.4",
          "0.3",
          "0.2",
          "0.2",
          "0.1",
          "0.2",
          "0.2",
          "0.1",
          "0.1",
          "0.2",
          "0.4",
          "0.4",
          "0.3",
          "0.3",
          "0.3",
          "0.2",
          "0.4",
          "0.2",
          "0.5",
          "0.2",
          "0.2",
          "0.4",
          "0.2",
          "0.2",
          "0.2",
          "0.2",
          "0.4",
          "0.1",
          "0.2",
          "0.2",
          "0.2",
          "0.2",
          "0.1",
          "0.2",
          "0.2",
          "0.3",
          "0.3",
          "0.2",
          "0.6",
          "0.4",
          "0.3",
          "0.2",
          "0.2",
          "0.2",
          "0.2"
         ],
         "type": "scatter3d"
        },
        {
         "hovertemplate": "target name=versicolor<br>sepal length (cm)=%{x}<br>sepal width (cm)=%{y}<br>petal width (cm)=%{z}<extra></extra>",
         "legendgroup": "versicolor",
         "marker": {
          "color": "#EF553B",
          "symbol": "circle"
         },
         "mode": "markers",
         "name": "versicolor",
         "scene": "scene",
         "showlegend": true,
         "x": [
          "7.0",
          "6.4",
          "6.9",
          "5.5",
          "6.5",
          "5.7",
          "6.3",
          "4.9",
          "6.6",
          "5.2",
          "5.0",
          "5.9",
          "6.0",
          "6.1",
          "5.6",
          "6.7",
          "5.6",
          "5.8",
          "6.2",
          "5.6",
          "5.9",
          "6.1",
          "6.3",
          "6.1",
          "6.4",
          "6.6",
          "6.8",
          "6.7",
          "6.0",
          "5.7",
          "5.5",
          "5.5",
          "5.8",
          "6.0",
          "5.4",
          "6.0",
          "6.7",
          "6.3",
          "5.6",
          "5.5",
          "5.5",
          "6.1",
          "5.8",
          "5.0",
          "5.6",
          "5.7",
          "5.7",
          "6.2",
          "5.1",
          "5.7"
         ],
         "y": [
          "3.2",
          "3.2",
          "3.1",
          "2.3",
          "2.8",
          "2.8",
          "3.3",
          "2.4",
          "2.9",
          "2.7",
          "2.0",
          "3.0",
          "2.2",
          "2.9",
          "2.9",
          "3.1",
          "3.0",
          "2.7",
          "2.2",
          "2.5",
          "3.2",
          "2.8",
          "2.5",
          "2.8",
          "2.9",
          "3.0",
          "2.8",
          "3.0",
          "2.9",
          "2.6",
          "2.4",
          "2.4",
          "2.7",
          "2.7",
          "3.0",
          "3.4",
          "3.1",
          "2.3",
          "3.0",
          "2.5",
          "2.6",
          "3.0",
          "2.6",
          "2.3",
          "2.7",
          "3.0",
          "2.9",
          "2.9",
          "2.5",
          "2.8"
         ],
         "z": [
          "1.4",
          "1.5",
          "1.5",
          "1.3",
          "1.5",
          "1.3",
          "1.6",
          "1.0",
          "1.3",
          "1.4",
          "1.0",
          "1.5",
          "1.0",
          "1.4",
          "1.3",
          "1.4",
          "1.5",
          "1.0",
          "1.5",
          "1.1",
          "1.8",
          "1.3",
          "1.5",
          "1.2",
          "1.3",
          "1.4",
          "1.4",
          "1.7",
          "1.5",
          "1.0",
          "1.1",
          "1.0",
          "1.2",
          "1.6",
          "1.5",
          "1.6",
          "1.5",
          "1.3",
          "1.3",
          "1.3",
          "1.2",
          "1.4",
          "1.2",
          "1.0",
          "1.3",
          "1.2",
          "1.3",
          "1.3",
          "1.1",
          "1.3"
         ],
         "type": "scatter3d"
        },
        {
         "hovertemplate": "target name=virginica<br>sepal length (cm)=%{x}<br>sepal width (cm)=%{y}<br>petal width (cm)=%{z}<extra></extra>",
         "legendgroup": "virginica",
         "marker": {
          "color": "#00cc96",
          "symbol": "circle"
         },
         "mode": "markers",
         "name": "virginica",
         "scene": "scene",
         "showlegend": true,
         "x": [
          "6.3",
          "5.8",
          "7.1",
          "6.3",
          "6.5",
          "7.6",
          "4.9",
          "7.3",
          "6.7",
          "7.2",
          "6.5",
          "6.4",
          "6.8",
          "5.7",
          "5.8",
          "6.4",
          "6.5",
          "7.7",
          "7.7",
          "6.0",
          "6.9",
          "5.6",
          "7.7",
          "6.3",
          "6.7",
          "7.2",
          "6.2",
          "6.1",
          "6.4",
          "7.2",
          "7.4",
          "7.9",
          "6.4",
          "6.3",
          "6.1",
          "7.7",
          "6.3",
          "6.4",
          "6.0",
          "6.9",
          "6.7",
          "6.9",
          "5.8",
          "6.8",
          "6.7",
          "6.7",
          "6.3",
          "6.5",
          "6.2",
          "5.9"
         ],
         "y": [
          "3.3",
          "2.7",
          "3.0",
          "2.9",
          "3.0",
          "3.0",
          "2.5",
          "2.9",
          "2.5",
          "3.6",
          "3.2",
          "2.7",
          "3.0",
          "2.5",
          "2.8",
          "3.2",
          "3.0",
          "3.8",
          "2.6",
          "2.2",
          "3.2",
          "2.8",
          "2.8",
          "2.7",
          "3.3",
          "3.2",
          "2.8",
          "3.0",
          "2.8",
          "3.0",
          "2.8",
          "3.8",
          "2.8",
          "2.8",
          "2.6",
          "3.0",
          "3.4",
          "3.1",
          "3.0",
          "3.1",
          "3.1",
          "3.1",
          "2.7",
          "3.2",
          "3.3",
          "3.0",
          "2.5",
          "3.0",
          "3.4",
          "3.0"
         ],
         "z": [
          "2.5",
          "1.9",
          "2.1",
          "1.8",
          "2.2",
          "2.1",
          "1.7",
          "1.8",
          "1.8",
          "2.5",
          "2.0",
          "1.9",
          "2.1",
          "2.0",
          "2.4",
          "2.3",
          "1.8",
          "2.2",
          "2.3",
          "1.5",
          "2.3",
          "2.0",
          "2.0",
          "1.8",
          "2.1",
          "1.8",
          "1.8",
          "1.8",
          "2.1",
          "1.6",
          "1.9",
          "2.0",
          "2.2",
          "1.5",
          "1.4",
          "2.3",
          "2.4",
          "1.8",
          "1.8",
          "2.1",
          "2.4",
          "2.3",
          "1.9",
          "2.3",
          "2.5",
          "2.3",
          "1.9",
          "2.0",
          "2.3",
          "1.8"
         ],
         "type": "scatter3d"
        }
       ],
       "layout": {
        "template": {
         "data": {
          "barpolar": [
           {
            "marker": {
             "line": {
              "color": "rgb(17,17,17)",
              "width": 0.5
             },
             "pattern": {
              "fillmode": "overlay",
              "size": 10,
              "solidity": 0.2
             }
            },
            "type": "barpolar"
           }
          ],
          "bar": [
           {
            "error_x": {
             "color": "#f2f5fa"
            },
            "error_y": {
             "color": "#f2f5fa"
            },
            "marker": {
             "line": {
              "color": "rgb(17,17,17)",
              "width": 0.5
             },
             "pattern": {
              "fillmode": "overlay",
              "size": 10,
              "solidity": 0.2
             }
            },
            "type": "bar"
           }
          ],
          "carpet": [
           {
            "aaxis": {
             "endlinecolor": "#A2B1C6",
             "gridcolor": "#506784",
             "linecolor": "#506784",
             "minorgridcolor": "#506784",
             "startlinecolor": "#A2B1C6"
            },
            "baxis": {
             "endlinecolor": "#A2B1C6",
             "gridcolor": "#506784",
             "linecolor": "#506784",
             "minorgridcolor": "#506784",
             "startlinecolor": "#A2B1C6"
            },
            "type": "carpet"
           }
          ],
          "choropleth": [
           {
            "colorbar": {
             "outlinewidth": 0,
             "ticks": ""
            },
            "type": "choropleth"
           }
          ],
          "contourcarpet": [
           {
            "colorbar": {
             "outlinewidth": 0,
             "ticks": ""
            },
            "type": "contourcarpet"
           }
          ],
          "contour": [
           {
            "colorbar": {
             "outlinewidth": 0,
             "ticks": ""
            },
            "colorscale": [
             [
              0.0,
              "#0d0887"
             ],
             [
              0.1111111111111111,
              "#46039f"
             ],
             [
              0.2222222222222222,
              "#7201a8"
             ],
             [
              0.3333333333333333,
              "#9c179e"
             ],
             [
              0.4444444444444444,
              "#bd3786"
             ],
             [
              0.5555555555555556,
              "#d8576b"
             ],
             [
              0.6666666666666666,
              "#ed7953"
             ],
             [
              0.7777777777777778,
              "#fb9f3a"
             ],
             [
              0.8888888888888888,
              "#fdca26"
             ],
             [
              1.0,
              "#f0f921"
             ]
            ],
            "type": "contour"
           }
          ],
          "heatmapgl": [
           {
            "colorbar": {
             "outlinewidth": 0,
             "ticks": ""
            },
            "colorscale": [
             [
              0.0,
              "#0d0887"
             ],
             [
              0.1111111111111111,
              "#46039f"
             ],
             [
              0.2222222222222222,
              "#7201a8"
             ],
             [
              0.3333333333333333,
              "#9c179e"
             ],
             [
              0.4444444444444444,
              "#bd3786"
             ],
             [
              0.5555555555555556,
              "#d8576b"
             ],
             [
              0.6666666666666666,
              "#ed7953"
             ],
             [
              0.7777777777777778,
              "#fb9f3a"
             ],
             [
              0.8888888888888888,
              "#fdca26"
             ],
             [
              1.0,
              "#f0f921"
             ]
            ],
            "type": "heatmapgl"
           }
          ],
          "heatmap": [
           {
            "colorbar": {
             "outlinewidth": 0,
             "ticks": ""
            },
            "colorscale": [
             [
              0.0,
              "#0d0887"
             ],
             [
              0.1111111111111111,
              "#46039f"
             ],
             [
              0.2222222222222222,
              "#7201a8"
             ],
             [
              0.3333333333333333,
              "#9c179e"
             ],
             [
              0.4444444444444444,
              "#bd3786"
             ],
             [
              0.5555555555555556,
              "#d8576b"
             ],
             [
              0.6666666666666666,
              "#ed7953"
             ],
             [
              0.7777777777777778,
              "#fb9f3a"
             ],
             [
              0.8888888888888888,
              "#fdca26"
             ],
             [
              1.0,
              "#f0f921"
             ]
            ],
            "type": "heatmap"
           }
          ],
          "histogram2dcontour": [
           {
            "colorbar": {
             "outlinewidth": 0,
             "ticks": ""
            },
            "colorscale": [
             [
              0.0,
              "#0d0887"
             ],
             [
              0.1111111111111111,
              "#46039f"
             ],
             [
              0.2222222222222222,
              "#7201a8"
             ],
             [
              0.3333333333333333,
              "#9c179e"
             ],
             [
              0.4444444444444444,
              "#bd3786"
             ],
             [
              0.5555555555555556,
              "#d8576b"
             ],
             [
              0.6666666666666666,
              "#ed7953"
             ],
             [
              0.7777777777777778,
              "#fb9f3a"
             ],
             [
              0.8888888888888888,
              "#fdca26"
             ],
             [
              1.0,
              "#f0f921"
             ]
            ],
            "type": "histogram2dcontour"
           }
          ],
          "histogram2d": [
           {
            "colorbar": {
             "outlinewidth": 0,
             "ticks": ""
            },
            "colorscale": [
             [
              0.0,
              "#0d0887"
             ],
             [
              0.1111111111111111,
              "#46039f"
             ],
             [
              0.2222222222222222,
              "#7201a8"
             ],
             [
              0.3333333333333333,
              "#9c179e"
             ],
             [
              0.4444444444444444,
              "#bd3786"
             ],
             [
              0.5555555555555556,
              "#d8576b"
             ],
             [
              0.6666666666666666,
              "#ed7953"
             ],
             [
              0.7777777777777778,
              "#fb9f3a"
             ],
             [
              0.8888888888888888,
              "#fdca26"
             ],
             [
              1.0,
              "#f0f921"
             ]
            ],
            "type": "histogram2d"
           }
          ],
          "histogram": [
           {
            "marker": {
             "pattern": {
              "fillmode": "overlay",
              "size": 10,
              "solidity": 0.2
             }
            },
            "type": "histogram"
           }
          ],
          "mesh3d": [
           {
            "colorbar": {
             "outlinewidth": 0,
             "ticks": ""
            },
            "type": "mesh3d"
           }
          ],
          "parcoords": [
           {
            "line": {
             "colorbar": {
              "outlinewidth": 0,
              "ticks": ""
             }
            },
            "type": "parcoords"
           }
          ],
          "pie": [
           {
            "automargin": true,
            "type": "pie"
           }
          ],
          "scatter3d": [
           {
            "line": {
             "colorbar": {
              "outlinewidth": 0,
              "ticks": ""
             }
            },
            "marker": {
             "colorbar": {
              "outlinewidth": 0,
              "ticks": ""
             }
            },
            "type": "scatter3d"
           }
          ],
          "scattercarpet": [
           {
            "marker": {
             "colorbar": {
              "outlinewidth": 0,
              "ticks": ""
             }
            },
            "type": "scattercarpet"
           }
          ],
          "scattergeo": [
           {
            "marker": {
             "colorbar": {
              "outlinewidth": 0,
              "ticks": ""
             }
            },
            "type": "scattergeo"
           }
          ],
          "scattergl": [
           {
            "marker": {
             "line": {
              "color": "#283442"
             }
            },
            "type": "scattergl"
           }
          ],
          "scattermapbox": [
           {
            "marker": {
             "colorbar": {
              "outlinewidth": 0,
              "ticks": ""
             }
            },
            "type": "scattermapbox"
           }
          ],
          "scatterpolargl": [
           {
            "marker": {
             "colorbar": {
              "outlinewidth": 0,
              "ticks": ""
             }
            },
            "type": "scatterpolargl"
           }
          ],
          "scatterpolar": [
           {
            "marker": {
             "colorbar": {
              "outlinewidth": 0,
              "ticks": ""
             }
            },
            "type": "scatterpolar"
           }
          ],
          "scatter": [
           {
            "marker": {
             "line": {
              "color": "#283442"
             }
            },
            "type": "scatter"
           }
          ],
          "scatterternary": [
           {
            "marker": {
             "colorbar": {
              "outlinewidth": 0,
              "ticks": ""
             }
            },
            "type": "scatterternary"
           }
          ],
          "surface": [
           {
            "colorbar": {
             "outlinewidth": 0,
             "ticks": ""
            },
            "colorscale": [
             [
              0.0,
              "#0d0887"
             ],
             [
              0.1111111111111111,
              "#46039f"
             ],
             [
              0.2222222222222222,
              "#7201a8"
             ],
             [
              0.3333333333333333,
              "#9c179e"
             ],
             [
              0.4444444444444444,
              "#bd3786"
             ],
             [
              0.5555555555555556,
              "#d8576b"
             ],
             [
              0.6666666666666666,
              "#ed7953"
             ],
             [
              0.7777777777777778,
              "#fb9f3a"
             ],
             [
              0.8888888888888888,
              "#fdca26"
             ],
             [
              1.0,
              "#f0f921"
             ]
            ],
            "type": "surface"
           }
          ],
          "table": [
           {
            "cells": {
             "fill": {
              "color": "#506784"
             },
             "line": {
              "color": "rgb(17,17,17)"
             }
            },
            "header": {
             "fill": {
              "color": "#2a3f5f"
             },
             "line": {
              "color": "rgb(17,17,17)"
             }
            },
            "type": "table"
           }
          ]
         },
         "layout": {
          "annotationdefaults": {
           "arrowcolor": "#f2f5fa",
           "arrowhead": 0,
           "arrowwidth": 1
          },
          "autotypenumbers": "strict",
          "coloraxis": {
           "colorbar": {
            "outlinewidth": 0,
            "ticks": ""
           }
          },
          "colorscale": {
           "diverging": [
            [
             0,
             "#8e0152"
            ],
            [
             0.1,
             "#c51b7d"
            ],
            [
             0.2,
             "#de77ae"
            ],
            [
             0.3,
             "#f1b6da"
            ],
            [
             0.4,
             "#fde0ef"
            ],
            [
             0.5,
             "#f7f7f7"
            ],
            [
             0.6,
             "#e6f5d0"
            ],
            [
             0.7,
             "#b8e186"
            ],
            [
             0.8,
             "#7fbc41"
            ],
            [
             0.9,
             "#4d9221"
            ],
            [
             1,
             "#276419"
            ]
           ],
           "sequential": [
            [
             0.0,
             "#0d0887"
            ],
            [
             0.1111111111111111,
             "#46039f"
            ],
            [
             0.2222222222222222,
             "#7201a8"
            ],
            [
             0.3333333333333333,
             "#9c179e"
            ],
            [
             0.4444444444444444,
             "#bd3786"
            ],
            [
             0.5555555555555556,
             "#d8576b"
            ],
            [
             0.6666666666666666,
             "#ed7953"
            ],
            [
             0.7777777777777778,
             "#fb9f3a"
            ],
            [
             0.8888888888888888,
             "#fdca26"
            ],
            [
             1.0,
             "#f0f921"
            ]
           ],
           "sequentialminus": [
            [
             0.0,
             "#0d0887"
            ],
            [
             0.1111111111111111,
             "#46039f"
            ],
            [
             0.2222222222222222,
             "#7201a8"
            ],
            [
             0.3333333333333333,
             "#9c179e"
            ],
            [
             0.4444444444444444,
             "#bd3786"
            ],
            [
             0.5555555555555556,
             "#d8576b"
            ],
            [
             0.6666666666666666,
             "#ed7953"
            ],
            [
             0.7777777777777778,
             "#fb9f3a"
            ],
            [
             0.8888888888888888,
             "#fdca26"
            ],
            [
             1.0,
             "#f0f921"
            ]
           ]
          },
          "colorway": [
           "#636efa",
           "#EF553B",
           "#00cc96",
           "#ab63fa",
           "#FFA15A",
           "#19d3f3",
           "#FF6692",
           "#B6E880",
           "#FF97FF",
           "#FECB52"
          ],
          "font": {
           "color": "#f2f5fa"
          },
          "geo": {
           "bgcolor": "rgb(17,17,17)",
           "lakecolor": "rgb(17,17,17)",
           "landcolor": "rgb(17,17,17)",
           "showlakes": true,
           "showland": true,
           "subunitcolor": "#506784"
          },
          "hoverlabel": {
           "align": "left"
          },
          "hovermode": "closest",
          "mapbox": {
           "style": "dark"
          },
          "paper_bgcolor": "rgb(17,17,17)",
          "plot_bgcolor": "rgb(17,17,17)",
          "polar": {
           "angularaxis": {
            "gridcolor": "#506784",
            "linecolor": "#506784",
            "ticks": ""
           },
           "bgcolor": "rgb(17,17,17)",
           "radialaxis": {
            "gridcolor": "#506784",
            "linecolor": "#506784",
            "ticks": ""
           }
          },
          "scene": {
           "xaxis": {
            "backgroundcolor": "rgb(17,17,17)",
            "gridcolor": "#506784",
            "gridwidth": 2,
            "linecolor": "#506784",
            "showbackground": true,
            "ticks": "",
            "zerolinecolor": "#C8D4E3"
           },
           "yaxis": {
            "backgroundcolor": "rgb(17,17,17)",
            "gridcolor": "#506784",
            "gridwidth": 2,
            "linecolor": "#506784",
            "showbackground": true,
            "ticks": "",
            "zerolinecolor": "#C8D4E3"
           },
           "zaxis": {
            "backgroundcolor": "rgb(17,17,17)",
            "gridcolor": "#506784",
            "gridwidth": 2,
            "linecolor": "#506784",
            "showbackground": true,
            "ticks": "",
            "zerolinecolor": "#C8D4E3"
           }
          },
          "shapedefaults": {
           "line": {
            "color": "#f2f5fa"
           }
          },
          "sliderdefaults": {
           "bgcolor": "#C8D4E3",
           "bordercolor": "rgb(17,17,17)",
           "borderwidth": 1,
           "tickwidth": 0
          },
          "ternary": {
           "aaxis": {
            "gridcolor": "#506784",
            "linecolor": "#506784",
            "ticks": ""
           },
           "baxis": {
            "gridcolor": "#506784",
            "linecolor": "#506784",
            "ticks": ""
           },
           "bgcolor": "rgb(17,17,17)",
           "caxis": {
            "gridcolor": "#506784",
            "linecolor": "#506784",
            "ticks": ""
           }
          },
          "title": {
           "x": 0.05
          },
          "updatemenudefaults": {
           "bgcolor": "#506784",
           "borderwidth": 0
          },
          "xaxis": {
           "automargin": true,
           "gridcolor": "#283442",
           "linecolor": "#506784",
           "ticks": "",
           "title": {
            "standoff": 15
           },
           "zerolinecolor": "#283442",
           "zerolinewidth": 2
          },
          "yaxis": {
           "automargin": true,
           "gridcolor": "#283442",
           "linecolor": "#506784",
           "ticks": "",
           "title": {
            "standoff": 15
           },
           "zerolinecolor": "#283442",
           "zerolinewidth": 2
          }
         }
        },
        "scene": {
         "domain": {
          "x": [
           0.0,
           1.0
          ],
          "y": [
           0.0,
           1.0
          ]
         },
         "xaxis": {
          "title": {
           "text": "sepal length (cm)"
          }
         },
         "yaxis": {
          "title": {
           "text": "sepal width (cm)"
          }
         },
         "zaxis": {
          "title": {
           "text": "petal width (cm)"
          }
         }
        },
        "legend": {
         "title": {
          "text": "target name"
         },
         "tracegroupgap": 0
        },
        "margin": {
         "t": 60
        }
       },
       "config": {
        "plotlyServerURL": "https://plot.ly"
       }
      },
      "text/html": "<div>                            <div id=\"2b0ce0ea-ba76-42e4-81f1-6feba07a4bf9\" class=\"plotly-graph-div\" style=\"height:525px; width:100%;\"></div>            <script type=\"text/javascript\">                require([\"plotly\"], function(Plotly) {                    window.PLOTLYENV=window.PLOTLYENV || {};                                    if (document.getElementById(\"2b0ce0ea-ba76-42e4-81f1-6feba07a4bf9\")) {                    Plotly.newPlot(                        \"2b0ce0ea-ba76-42e4-81f1-6feba07a4bf9\",                        [{\"hovertemplate\":\"target name=setosa<br>sepal length (cm)=%{x}<br>sepal width (cm)=%{y}<br>petal width (cm)=%{z}<extra></extra>\",\"legendgroup\":\"setosa\",\"marker\":{\"color\":\"#636efa\",\"symbol\":\"circle\"},\"mode\":\"markers\",\"name\":\"setosa\",\"scene\":\"scene\",\"showlegend\":true,\"x\":[\"5.1\",\"4.9\",\"4.7\",\"4.6\",\"5.0\",\"5.4\",\"4.6\",\"5.0\",\"4.4\",\"4.9\",\"5.4\",\"4.8\",\"4.8\",\"4.3\",\"5.8\",\"5.7\",\"5.4\",\"5.1\",\"5.7\",\"5.1\",\"5.4\",\"5.1\",\"4.6\",\"5.1\",\"4.8\",\"5.0\",\"5.0\",\"5.2\",\"5.2\",\"4.7\",\"4.8\",\"5.4\",\"5.2\",\"5.5\",\"4.9\",\"5.0\",\"5.5\",\"4.9\",\"4.4\",\"5.1\",\"5.0\",\"4.5\",\"4.4\",\"5.0\",\"5.1\",\"4.8\",\"5.1\",\"4.6\",\"5.3\",\"5.0\"],\"y\":[\"3.5\",\"3.0\",\"3.2\",\"3.1\",\"3.6\",\"3.9\",\"3.4\",\"3.4\",\"2.9\",\"3.1\",\"3.7\",\"3.4\",\"3.0\",\"3.0\",\"4.0\",\"4.4\",\"3.9\",\"3.5\",\"3.8\",\"3.8\",\"3.4\",\"3.7\",\"3.6\",\"3.3\",\"3.4\",\"3.0\",\"3.4\",\"3.5\",\"3.4\",\"3.2\",\"3.1\",\"3.4\",\"4.1\",\"4.2\",\"3.1\",\"3.2\",\"3.5\",\"3.6\",\"3.0\",\"3.4\",\"3.5\",\"2.3\",\"3.2\",\"3.5\",\"3.8\",\"3.0\",\"3.8\",\"3.2\",\"3.7\",\"3.3\"],\"z\":[\"0.2\",\"0.2\",\"0.2\",\"0.2\",\"0.2\",\"0.4\",\"0.3\",\"0.2\",\"0.2\",\"0.1\",\"0.2\",\"0.2\",\"0.1\",\"0.1\",\"0.2\",\"0.4\",\"0.4\",\"0.3\",\"0.3\",\"0.3\",\"0.2\",\"0.4\",\"0.2\",\"0.5\",\"0.2\",\"0.2\",\"0.4\",\"0.2\",\"0.2\",\"0.2\",\"0.2\",\"0.4\",\"0.1\",\"0.2\",\"0.2\",\"0.2\",\"0.2\",\"0.1\",\"0.2\",\"0.2\",\"0.3\",\"0.3\",\"0.2\",\"0.6\",\"0.4\",\"0.3\",\"0.2\",\"0.2\",\"0.2\",\"0.2\"],\"type\":\"scatter3d\"},{\"hovertemplate\":\"target name=versicolor<br>sepal length (cm)=%{x}<br>sepal width (cm)=%{y}<br>petal width (cm)=%{z}<extra></extra>\",\"legendgroup\":\"versicolor\",\"marker\":{\"color\":\"#EF553B\",\"symbol\":\"circle\"},\"mode\":\"markers\",\"name\":\"versicolor\",\"scene\":\"scene\",\"showlegend\":true,\"x\":[\"7.0\",\"6.4\",\"6.9\",\"5.5\",\"6.5\",\"5.7\",\"6.3\",\"4.9\",\"6.6\",\"5.2\",\"5.0\",\"5.9\",\"6.0\",\"6.1\",\"5.6\",\"6.7\",\"5.6\",\"5.8\",\"6.2\",\"5.6\",\"5.9\",\"6.1\",\"6.3\",\"6.1\",\"6.4\",\"6.6\",\"6.8\",\"6.7\",\"6.0\",\"5.7\",\"5.5\",\"5.5\",\"5.8\",\"6.0\",\"5.4\",\"6.0\",\"6.7\",\"6.3\",\"5.6\",\"5.5\",\"5.5\",\"6.1\",\"5.8\",\"5.0\",\"5.6\",\"5.7\",\"5.7\",\"6.2\",\"5.1\",\"5.7\"],\"y\":[\"3.2\",\"3.2\",\"3.1\",\"2.3\",\"2.8\",\"2.8\",\"3.3\",\"2.4\",\"2.9\",\"2.7\",\"2.0\",\"3.0\",\"2.2\",\"2.9\",\"2.9\",\"3.1\",\"3.0\",\"2.7\",\"2.2\",\"2.5\",\"3.2\",\"2.8\",\"2.5\",\"2.8\",\"2.9\",\"3.0\",\"2.8\",\"3.0\",\"2.9\",\"2.6\",\"2.4\",\"2.4\",\"2.7\",\"2.7\",\"3.0\",\"3.4\",\"3.1\",\"2.3\",\"3.0\",\"2.5\",\"2.6\",\"3.0\",\"2.6\",\"2.3\",\"2.7\",\"3.0\",\"2.9\",\"2.9\",\"2.5\",\"2.8\"],\"z\":[\"1.4\",\"1.5\",\"1.5\",\"1.3\",\"1.5\",\"1.3\",\"1.6\",\"1.0\",\"1.3\",\"1.4\",\"1.0\",\"1.5\",\"1.0\",\"1.4\",\"1.3\",\"1.4\",\"1.5\",\"1.0\",\"1.5\",\"1.1\",\"1.8\",\"1.3\",\"1.5\",\"1.2\",\"1.3\",\"1.4\",\"1.4\",\"1.7\",\"1.5\",\"1.0\",\"1.1\",\"1.0\",\"1.2\",\"1.6\",\"1.5\",\"1.6\",\"1.5\",\"1.3\",\"1.3\",\"1.3\",\"1.2\",\"1.4\",\"1.2\",\"1.0\",\"1.3\",\"1.2\",\"1.3\",\"1.3\",\"1.1\",\"1.3\"],\"type\":\"scatter3d\"},{\"hovertemplate\":\"target name=virginica<br>sepal length (cm)=%{x}<br>sepal width (cm)=%{y}<br>petal width (cm)=%{z}<extra></extra>\",\"legendgroup\":\"virginica\",\"marker\":{\"color\":\"#00cc96\",\"symbol\":\"circle\"},\"mode\":\"markers\",\"name\":\"virginica\",\"scene\":\"scene\",\"showlegend\":true,\"x\":[\"6.3\",\"5.8\",\"7.1\",\"6.3\",\"6.5\",\"7.6\",\"4.9\",\"7.3\",\"6.7\",\"7.2\",\"6.5\",\"6.4\",\"6.8\",\"5.7\",\"5.8\",\"6.4\",\"6.5\",\"7.7\",\"7.7\",\"6.0\",\"6.9\",\"5.6\",\"7.7\",\"6.3\",\"6.7\",\"7.2\",\"6.2\",\"6.1\",\"6.4\",\"7.2\",\"7.4\",\"7.9\",\"6.4\",\"6.3\",\"6.1\",\"7.7\",\"6.3\",\"6.4\",\"6.0\",\"6.9\",\"6.7\",\"6.9\",\"5.8\",\"6.8\",\"6.7\",\"6.7\",\"6.3\",\"6.5\",\"6.2\",\"5.9\"],\"y\":[\"3.3\",\"2.7\",\"3.0\",\"2.9\",\"3.0\",\"3.0\",\"2.5\",\"2.9\",\"2.5\",\"3.6\",\"3.2\",\"2.7\",\"3.0\",\"2.5\",\"2.8\",\"3.2\",\"3.0\",\"3.8\",\"2.6\",\"2.2\",\"3.2\",\"2.8\",\"2.8\",\"2.7\",\"3.3\",\"3.2\",\"2.8\",\"3.0\",\"2.8\",\"3.0\",\"2.8\",\"3.8\",\"2.8\",\"2.8\",\"2.6\",\"3.0\",\"3.4\",\"3.1\",\"3.0\",\"3.1\",\"3.1\",\"3.1\",\"2.7\",\"3.2\",\"3.3\",\"3.0\",\"2.5\",\"3.0\",\"3.4\",\"3.0\"],\"z\":[\"2.5\",\"1.9\",\"2.1\",\"1.8\",\"2.2\",\"2.1\",\"1.7\",\"1.8\",\"1.8\",\"2.5\",\"2.0\",\"1.9\",\"2.1\",\"2.0\",\"2.4\",\"2.3\",\"1.8\",\"2.2\",\"2.3\",\"1.5\",\"2.3\",\"2.0\",\"2.0\",\"1.8\",\"2.1\",\"1.8\",\"1.8\",\"1.8\",\"2.1\",\"1.6\",\"1.9\",\"2.0\",\"2.2\",\"1.5\",\"1.4\",\"2.3\",\"2.4\",\"1.8\",\"1.8\",\"2.1\",\"2.4\",\"2.3\",\"1.9\",\"2.3\",\"2.5\",\"2.3\",\"1.9\",\"2.0\",\"2.3\",\"1.8\"],\"type\":\"scatter3d\"}],                        {\"template\":{\"data\":{\"barpolar\":[{\"marker\":{\"line\":{\"color\":\"rgb(17,17,17)\",\"width\":0.5},\"pattern\":{\"fillmode\":\"overlay\",\"size\":10,\"solidity\":0.2}},\"type\":\"barpolar\"}],\"bar\":[{\"error_x\":{\"color\":\"#f2f5fa\"},\"error_y\":{\"color\":\"#f2f5fa\"},\"marker\":{\"line\":{\"color\":\"rgb(17,17,17)\",\"width\":0.5},\"pattern\":{\"fillmode\":\"overlay\",\"size\":10,\"solidity\":0.2}},\"type\":\"bar\"}],\"carpet\":[{\"aaxis\":{\"endlinecolor\":\"#A2B1C6\",\"gridcolor\":\"#506784\",\"linecolor\":\"#506784\",\"minorgridcolor\":\"#506784\",\"startlinecolor\":\"#A2B1C6\"},\"baxis\":{\"endlinecolor\":\"#A2B1C6\",\"gridcolor\":\"#506784\",\"linecolor\":\"#506784\",\"minorgridcolor\":\"#506784\",\"startlinecolor\":\"#A2B1C6\"},\"type\":\"carpet\"}],\"choropleth\":[{\"colorbar\":{\"outlinewidth\":0,\"ticks\":\"\"},\"type\":\"choropleth\"}],\"contourcarpet\":[{\"colorbar\":{\"outlinewidth\":0,\"ticks\":\"\"},\"type\":\"contourcarpet\"}],\"contour\":[{\"colorbar\":{\"outlinewidth\":0,\"ticks\":\"\"},\"colorscale\":[[0.0,\"#0d0887\"],[0.1111111111111111,\"#46039f\"],[0.2222222222222222,\"#7201a8\"],[0.3333333333333333,\"#9c179e\"],[0.4444444444444444,\"#bd3786\"],[0.5555555555555556,\"#d8576b\"],[0.6666666666666666,\"#ed7953\"],[0.7777777777777778,\"#fb9f3a\"],[0.8888888888888888,\"#fdca26\"],[1.0,\"#f0f921\"]],\"type\":\"contour\"}],\"heatmapgl\":[{\"colorbar\":{\"outlinewidth\":0,\"ticks\":\"\"},\"colorscale\":[[0.0,\"#0d0887\"],[0.1111111111111111,\"#46039f\"],[0.2222222222222222,\"#7201a8\"],[0.3333333333333333,\"#9c179e\"],[0.4444444444444444,\"#bd3786\"],[0.5555555555555556,\"#d8576b\"],[0.6666666666666666,\"#ed7953\"],[0.7777777777777778,\"#fb9f3a\"],[0.8888888888888888,\"#fdca26\"],[1.0,\"#f0f921\"]],\"type\":\"heatmapgl\"}],\"heatmap\":[{\"colorbar\":{\"outlinewidth\":0,\"ticks\":\"\"},\"colorscale\":[[0.0,\"#0d0887\"],[0.1111111111111111,\"#46039f\"],[0.2222222222222222,\"#7201a8\"],[0.3333333333333333,\"#9c179e\"],[0.4444444444444444,\"#bd3786\"],[0.5555555555555556,\"#d8576b\"],[0.6666666666666666,\"#ed7953\"],[0.7777777777777778,\"#fb9f3a\"],[0.8888888888888888,\"#fdca26\"],[1.0,\"#f0f921\"]],\"type\":\"heatmap\"}],\"histogram2dcontour\":[{\"colorbar\":{\"outlinewidth\":0,\"ticks\":\"\"},\"colorscale\":[[0.0,\"#0d0887\"],[0.1111111111111111,\"#46039f\"],[0.2222222222222222,\"#7201a8\"],[0.3333333333333333,\"#9c179e\"],[0.4444444444444444,\"#bd3786\"],[0.5555555555555556,\"#d8576b\"],[0.6666666666666666,\"#ed7953\"],[0.7777777777777778,\"#fb9f3a\"],[0.8888888888888888,\"#fdca26\"],[1.0,\"#f0f921\"]],\"type\":\"histogram2dcontour\"}],\"histogram2d\":[{\"colorbar\":{\"outlinewidth\":0,\"ticks\":\"\"},\"colorscale\":[[0.0,\"#0d0887\"],[0.1111111111111111,\"#46039f\"],[0.2222222222222222,\"#7201a8\"],[0.3333333333333333,\"#9c179e\"],[0.4444444444444444,\"#bd3786\"],[0.5555555555555556,\"#d8576b\"],[0.6666666666666666,\"#ed7953\"],[0.7777777777777778,\"#fb9f3a\"],[0.8888888888888888,\"#fdca26\"],[1.0,\"#f0f921\"]],\"type\":\"histogram2d\"}],\"histogram\":[{\"marker\":{\"pattern\":{\"fillmode\":\"overlay\",\"size\":10,\"solidity\":0.2}},\"type\":\"histogram\"}],\"mesh3d\":[{\"colorbar\":{\"outlinewidth\":0,\"ticks\":\"\"},\"type\":\"mesh3d\"}],\"parcoords\":[{\"line\":{\"colorbar\":{\"outlinewidth\":0,\"ticks\":\"\"}},\"type\":\"parcoords\"}],\"pie\":[{\"automargin\":true,\"type\":\"pie\"}],\"scatter3d\":[{\"line\":{\"colorbar\":{\"outlinewidth\":0,\"ticks\":\"\"}},\"marker\":{\"colorbar\":{\"outlinewidth\":0,\"ticks\":\"\"}},\"type\":\"scatter3d\"}],\"scattercarpet\":[{\"marker\":{\"colorbar\":{\"outlinewidth\":0,\"ticks\":\"\"}},\"type\":\"scattercarpet\"}],\"scattergeo\":[{\"marker\":{\"colorbar\":{\"outlinewidth\":0,\"ticks\":\"\"}},\"type\":\"scattergeo\"}],\"scattergl\":[{\"marker\":{\"line\":{\"color\":\"#283442\"}},\"type\":\"scattergl\"}],\"scattermapbox\":[{\"marker\":{\"colorbar\":{\"outlinewidth\":0,\"ticks\":\"\"}},\"type\":\"scattermapbox\"}],\"scatterpolargl\":[{\"marker\":{\"colorbar\":{\"outlinewidth\":0,\"ticks\":\"\"}},\"type\":\"scatterpolargl\"}],\"scatterpolar\":[{\"marker\":{\"colorbar\":{\"outlinewidth\":0,\"ticks\":\"\"}},\"type\":\"scatterpolar\"}],\"scatter\":[{\"marker\":{\"line\":{\"color\":\"#283442\"}},\"type\":\"scatter\"}],\"scatterternary\":[{\"marker\":{\"colorbar\":{\"outlinewidth\":0,\"ticks\":\"\"}},\"type\":\"scatterternary\"}],\"surface\":[{\"colorbar\":{\"outlinewidth\":0,\"ticks\":\"\"},\"colorscale\":[[0.0,\"#0d0887\"],[0.1111111111111111,\"#46039f\"],[0.2222222222222222,\"#7201a8\"],[0.3333333333333333,\"#9c179e\"],[0.4444444444444444,\"#bd3786\"],[0.5555555555555556,\"#d8576b\"],[0.6666666666666666,\"#ed7953\"],[0.7777777777777778,\"#fb9f3a\"],[0.8888888888888888,\"#fdca26\"],[1.0,\"#f0f921\"]],\"type\":\"surface\"}],\"table\":[{\"cells\":{\"fill\":{\"color\":\"#506784\"},\"line\":{\"color\":\"rgb(17,17,17)\"}},\"header\":{\"fill\":{\"color\":\"#2a3f5f\"},\"line\":{\"color\":\"rgb(17,17,17)\"}},\"type\":\"table\"}]},\"layout\":{\"annotationdefaults\":{\"arrowcolor\":\"#f2f5fa\",\"arrowhead\":0,\"arrowwidth\":1},\"autotypenumbers\":\"strict\",\"coloraxis\":{\"colorbar\":{\"outlinewidth\":0,\"ticks\":\"\"}},\"colorscale\":{\"diverging\":[[0,\"#8e0152\"],[0.1,\"#c51b7d\"],[0.2,\"#de77ae\"],[0.3,\"#f1b6da\"],[0.4,\"#fde0ef\"],[0.5,\"#f7f7f7\"],[0.6,\"#e6f5d0\"],[0.7,\"#b8e186\"],[0.8,\"#7fbc41\"],[0.9,\"#4d9221\"],[1,\"#276419\"]],\"sequential\":[[0.0,\"#0d0887\"],[0.1111111111111111,\"#46039f\"],[0.2222222222222222,\"#7201a8\"],[0.3333333333333333,\"#9c179e\"],[0.4444444444444444,\"#bd3786\"],[0.5555555555555556,\"#d8576b\"],[0.6666666666666666,\"#ed7953\"],[0.7777777777777778,\"#fb9f3a\"],[0.8888888888888888,\"#fdca26\"],[1.0,\"#f0f921\"]],\"sequentialminus\":[[0.0,\"#0d0887\"],[0.1111111111111111,\"#46039f\"],[0.2222222222222222,\"#7201a8\"],[0.3333333333333333,\"#9c179e\"],[0.4444444444444444,\"#bd3786\"],[0.5555555555555556,\"#d8576b\"],[0.6666666666666666,\"#ed7953\"],[0.7777777777777778,\"#fb9f3a\"],[0.8888888888888888,\"#fdca26\"],[1.0,\"#f0f921\"]]},\"colorway\":[\"#636efa\",\"#EF553B\",\"#00cc96\",\"#ab63fa\",\"#FFA15A\",\"#19d3f3\",\"#FF6692\",\"#B6E880\",\"#FF97FF\",\"#FECB52\"],\"font\":{\"color\":\"#f2f5fa\"},\"geo\":{\"bgcolor\":\"rgb(17,17,17)\",\"lakecolor\":\"rgb(17,17,17)\",\"landcolor\":\"rgb(17,17,17)\",\"showlakes\":true,\"showland\":true,\"subunitcolor\":\"#506784\"},\"hoverlabel\":{\"align\":\"left\"},\"hovermode\":\"closest\",\"mapbox\":{\"style\":\"dark\"},\"paper_bgcolor\":\"rgb(17,17,17)\",\"plot_bgcolor\":\"rgb(17,17,17)\",\"polar\":{\"angularaxis\":{\"gridcolor\":\"#506784\",\"linecolor\":\"#506784\",\"ticks\":\"\"},\"bgcolor\":\"rgb(17,17,17)\",\"radialaxis\":{\"gridcolor\":\"#506784\",\"linecolor\":\"#506784\",\"ticks\":\"\"}},\"scene\":{\"xaxis\":{\"backgroundcolor\":\"rgb(17,17,17)\",\"gridcolor\":\"#506784\",\"gridwidth\":2,\"linecolor\":\"#506784\",\"showbackground\":true,\"ticks\":\"\",\"zerolinecolor\":\"#C8D4E3\"},\"yaxis\":{\"backgroundcolor\":\"rgb(17,17,17)\",\"gridcolor\":\"#506784\",\"gridwidth\":2,\"linecolor\":\"#506784\",\"showbackground\":true,\"ticks\":\"\",\"zerolinecolor\":\"#C8D4E3\"},\"zaxis\":{\"backgroundcolor\":\"rgb(17,17,17)\",\"gridcolor\":\"#506784\",\"gridwidth\":2,\"linecolor\":\"#506784\",\"showbackground\":true,\"ticks\":\"\",\"zerolinecolor\":\"#C8D4E3\"}},\"shapedefaults\":{\"line\":{\"color\":\"#f2f5fa\"}},\"sliderdefaults\":{\"bgcolor\":\"#C8D4E3\",\"bordercolor\":\"rgb(17,17,17)\",\"borderwidth\":1,\"tickwidth\":0},\"ternary\":{\"aaxis\":{\"gridcolor\":\"#506784\",\"linecolor\":\"#506784\",\"ticks\":\"\"},\"baxis\":{\"gridcolor\":\"#506784\",\"linecolor\":\"#506784\",\"ticks\":\"\"},\"bgcolor\":\"rgb(17,17,17)\",\"caxis\":{\"gridcolor\":\"#506784\",\"linecolor\":\"#506784\",\"ticks\":\"\"}},\"title\":{\"x\":0.05},\"updatemenudefaults\":{\"bgcolor\":\"#506784\",\"borderwidth\":0},\"xaxis\":{\"automargin\":true,\"gridcolor\":\"#283442\",\"linecolor\":\"#506784\",\"ticks\":\"\",\"title\":{\"standoff\":15},\"zerolinecolor\":\"#283442\",\"zerolinewidth\":2},\"yaxis\":{\"automargin\":true,\"gridcolor\":\"#283442\",\"linecolor\":\"#506784\",\"ticks\":\"\",\"title\":{\"standoff\":15},\"zerolinecolor\":\"#283442\",\"zerolinewidth\":2}}},\"scene\":{\"domain\":{\"x\":[0.0,1.0],\"y\":[0.0,1.0]},\"xaxis\":{\"title\":{\"text\":\"sepal length (cm)\"}},\"yaxis\":{\"title\":{\"text\":\"sepal width (cm)\"}},\"zaxis\":{\"title\":{\"text\":\"petal width (cm)\"}}},\"legend\":{\"title\":{\"text\":\"target name\"},\"tracegroupgap\":0},\"margin\":{\"t\":60}},                        {\"responsive\": true}                    ).then(function(){\n                            \nvar gd = document.getElementById('2b0ce0ea-ba76-42e4-81f1-6feba07a4bf9');\nvar x = new MutationObserver(function (mutations, observer) {{\n        var display = window.getComputedStyle(gd).display;\n        if (!display || display === 'none') {{\n            console.log([gd, 'removed!']);\n            Plotly.purge(gd);\n            observer.disconnect();\n        }}\n}});\n\n// Listen for the removal of the full notebook cells\nvar notebookContainer = gd.closest('#notebook-container');\nif (notebookContainer) {{\n    x.observe(notebookContainer, {childList: true});\n}}\n\n// Listen for the clearing of the current output cell\nvar outputEl = gd.closest('.output');\nif (outputEl) {{\n    x.observe(outputEl, {childList: true});\n}}\n\n                        })                };                });            </script>        </div>"
     },
     "metadata": {},
     "output_type": "display_data"
    },
    {
     "data": {
      "text/plain": "<Figure size 1600x1000 with 0 Axes>"
     },
     "metadata": {},
     "output_type": "display_data"
    }
   ],
   "source": [
    "# 3d plot\n",
    "import plotly.express as px\n",
    "\n",
    "fig = plt.figure(figsize=(16, 10))\n",
    "fig = px.scatter_3d(df, x='sepal length (cm)', y='sepal width (cm)', z='petal width (cm)',\n",
    "                    color='target name', template='plotly_dark')\n",
    "fig.show()"
   ],
   "metadata": {
    "collapsed": false,
    "pycharm": {
     "name": "#%%\n"
    }
   }
  },
  {
   "cell_type": "code",
   "execution_count": 624,
   "outputs": [
    {
     "data": {
      "text/plain": "<Figure size 1500x1000 with 4 Axes>",
      "image/png": "[encoded data removed]"
     },
     "metadata": {},
     "output_type": "display_data"
    }
   ],
   "source": [
    "fig, axes = plt.subplots(2, 2, figsize=(15, 10))\n",
    "\n",
    "for i, axis in enumerate(axes.flat):\n",
    "    axis.hist(features[:, i])\n",
    "    axis.set_xlabel(dataset.feature_names[i])\n",
    "    axis.set_ylabel('number of objects')"
   ],
   "metadata": {
    "collapsed": false,
    "pycharm": {
     "name": "#%%\n"
    }
   }
  }
 ],
 "metadata": {
  "kernelspec": {
   "display_name": "Python 3",
   "language": "python",
   "name": "python3"
  },
  "language_info": {
   "codemirror_mode": {
    "name": "ipython",
    "version": 2
   },
   "file_extension": ".py",
   "mimetype": "text/x-python",
   "name": "python",
   "nbconvert_exporter": "python",
   "pygments_lexer": "ipython2",
   "version": "2.7.6"
  }
 },
 "nbformat": 4,
 "nbformat_minor": 0
}